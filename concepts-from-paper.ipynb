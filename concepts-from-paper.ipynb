{
 "cells": [
  {
   "cell_type": "code",
   "execution_count": 1,
   "metadata": {},
   "outputs": [],
   "source": [
    "import tensorflow as tf"
   ]
  },
  {
   "cell_type": "markdown",
   "metadata": {},
   "source": [
    "The classes in the PyTorch Implementation each inherit from torch.nn.Module.\n",
    "\n",
    "The PyTorch implementation uses a ModuleList to store a list of Modules. TensorFlow Module classes are able to hold other modules\n",
    "\n",
    "https://www.tensorflow.org/api_docs/python/tf/Module"
   ]
  },
  {
   "cell_type": "code",
   "execution_count": 7,
   "metadata": {},
   "outputs": [],
   "source": [
    "module = tf.Module"
   ]
  },
  {
   "cell_type": "markdown",
   "metadata": {},
   "source": [
    "Classes required a Tensor object as input"
   ]
  },
  {
   "cell_type": "code",
   "execution_count": 8,
   "metadata": {},
   "outputs": [],
   "source": [
    "tensor = tf.Tensor"
   ]
  },
  {
   "cell_type": "markdown",
   "metadata": {},
   "source": [
    "Sequential https://www.tensorflow.org/api_docs/python/tf/keras/Sequential"
   ]
  },
  {
   "cell_type": "code",
   "execution_count": 2,
   "metadata": {},
   "outputs": [],
   "source": [
    "sequential = tf.keras.Sequential"
   ]
  },
  {
   "cell_type": "markdown",
   "metadata": {},
   "source": [
    "PreLu https://www.tensorflow.org/api_docs/python/tf/keras/layers/PReLU\n",
    "\n",
    "ReLU https://www.tensorflow.org/api_docs/python/tf/keras/layers/ReLU"
   ]
  },
  {
   "cell_type": "code",
   "execution_count": 3,
   "metadata": {},
   "outputs": [],
   "source": [
    "prelu = tf.keras.layers.PReLU"
   ]
  },
  {
   "cell_type": "code",
   "execution_count": 69,
   "metadata": {},
   "outputs": [],
   "source": [
    "relu = tf.nn.relu"
   ]
  },
  {
   "cell_type": "code",
   "execution_count": 70,
   "metadata": {},
   "outputs": [],
   "source": [
    "sigmoid = tf.nn.sigmoid"
   ]
  },
  {
   "cell_type": "markdown",
   "metadata": {},
   "source": [
    "GroupNorm https://www.tensorflow.org/addons/api_docs/python/tfa/layers/GroupNormalization\n",
    "\n",
    "Paper: https://arxiv.org/abs/1803.08494\n",
    "\n",
    "Keras: https://keras.io/api/layers/normalization_layers/layer_normalization/\n",
    "\n",
    "PyTorch: https://pytorch.org/docs/stable/generated/torch.nn.GroupNorm.html"
   ]
  },
  {
   "cell_type": "markdown",
   "metadata": {},
   "source": [
    "The PyTorch implementation included a call to PyTorch.nn.GroupNormalization with a\n",
    "num_groups set to 1.  According to the TensorFlow docs, setting the number of groups to 1 in GroupNormalization is equivalent to Layer Normalization. Keras offers a LayerNormalization and not a Group"
   ]
  },
  {
   "cell_type": "code",
   "execution_count": 4,
   "metadata": {},
   "outputs": [],
   "source": [
    "import tensorflow_addons as tfa"
   ]
  },
  {
   "cell_type": "code",
   "execution_count": 5,
   "metadata": {},
   "outputs": [],
   "source": [
    "group_norm = tfa.layers.GroupNormalization"
   ]
  },
  {
   "cell_type": "markdown",
   "metadata": {},
   "source": [
    "TensorFlow [Conv1d](https://www.tensorflow.org/api_docs/python/tf/keras/layers/Conv1D)"
   ]
  },
  {
   "cell_type": "code",
   "execution_count": 6,
   "metadata": {},
   "outputs": [],
   "source": [
    "c1d = tf.keras.layers.Conv1D"
   ]
  },
  {
   "cell_type": "markdown",
   "metadata": {},
   "source": [
    "# Scratch"
   ]
  },
  {
   "cell_type": "code",
   "execution_count": 57,
   "metadata": {},
   "outputs": [],
   "source": [
    "class ModuleList(tf.Module):\n",
    "\n",
    "    def __init__(self, submodules=None):\n",
    "        super(ModuleList, self).__init__()\n",
    "\n",
    "        if submodules is not None:\n",
    "            self._submodules = submodules            \n",
    "        else:\n",
    "            self._submodules = []\n",
    "\n",
    "    def set_submodules(self):\n",
    "        self._submodules = tuple(self._submodules)"
   ]
  },
  {
   "cell_type": "code",
   "execution_count": 58,
   "metadata": {},
   "outputs": [],
   "source": [
    "ms = []\n",
    "for m in range(5):\n",
    "    ms.append(tf.Module())"
   ]
  },
  {
   "cell_type": "code",
   "execution_count": 59,
   "metadata": {},
   "outputs": [],
   "source": [
    "zed = ModuleList(ms)"
   ]
  },
  {
   "cell_type": "code",
   "execution_count": 61,
   "metadata": {},
   "outputs": [
    {
     "data": {
      "text/plain": [
       "(<tensorflow.python.module.module.Module at 0x7f82de38ea60>,\n",
       " <tensorflow.python.module.module.Module at 0x7f82de38ec10>,\n",
       " <tensorflow.python.module.module.Module at 0x7f82de38e400>,\n",
       " <tensorflow.python.module.module.Module at 0x7f82de38e6a0>,\n",
       " <tensorflow.python.module.module.Module at 0x7f82de38e8b0>)"
      ]
     },
     "execution_count": 61,
     "metadata": {},
     "output_type": "execute_result"
    }
   ],
   "source": [
    "zed.submodules"
   ]
  }
 ],
 "metadata": {
  "interpreter": {
   "hash": "b91a2288947674b63b577ae992c29c7a83e51dc57999a31703c153575cb55800"
  },
  "kernelspec": {
   "display_name": "Python 3.10.1 64-bit ('venv': venv)",
   "language": "python",
   "name": "python3"
  },
  "language_info": {
   "codemirror_mode": {
    "name": "ipython",
    "version": 3
   },
   "file_extension": ".py",
   "mimetype": "text/x-python",
   "name": "python",
   "nbconvert_exporter": "python",
   "pygments_lexer": "ipython3",
   "version": "3.9.7"
  },
  "orig_nbformat": 4
 },
 "nbformat": 4,
 "nbformat_minor": 2
}

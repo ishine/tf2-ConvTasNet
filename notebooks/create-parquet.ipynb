{
 "cells": [
  {
   "cell_type": "markdown",
   "metadata": {},
   "source": [
    "This notebook prepares the MiniLibrix for training and evaluation."
   ]
  },
  {
   "cell_type": "code",
   "execution_count": 1,
   "metadata": {},
   "outputs": [],
   "source": [
    "import os\n",
    "import pandas as pd\n",
    "import tensorflow as tf"
   ]
  },
  {
   "cell_type": "code",
   "execution_count": 2,
   "metadata": {},
   "outputs": [],
   "source": [
    "os.chdir('..')\n",
    "assert os.getcwd() == '/Users/justin/MSAI/CS-590/tf2-ConvTasNet', 'nope'"
   ]
  },
  {
   "cell_type": "code",
   "execution_count": 8,
   "metadata": {},
   "outputs": [],
   "source": [
    "for dataset in ['train', 'val']:\n",
    "    paths = pd.read_csv(f\"MiniLibriMix/metadata/mixture_{dataset}_mix_clean.csv\")\n",
    "    ds = pd.DataFrame([\n",
    "        tf.audio.decode_wav(contents=tf.io.read_file(mix))\n",
    "        for mix in paths[\"mixture_path\"]\n",
    "    ])\n",
    "    signals = []\n",
    "\n",
    "    for i in range(ds.shape[0]):\n",
    "        signals.append([ds['audio'].iloc[i].numpy().flatten()])\n",
    "    audio = pd.DataFrame(signals, columns=['signal'])\n",
    "    name = 'test' if dataset == 'val' else dataset\n",
    "    audio.to_parquet(f'data/{name}.parquet')"
   ]
  },
  {
   "cell_type": "code",
   "execution_count": 11,
   "metadata": {},
   "outputs": [],
   "source": [
    "train = pd.read_parquet(f\"data/train.parquet\")\n",
    "test = pd.read_parquet(f\"data/test.parquet\")"
   ]
  },
  {
   "cell_type": "code",
   "execution_count": 12,
   "metadata": {},
   "outputs": [
    {
     "data": {
      "text/html": [
       "<div>\n",
       "<style scoped>\n",
       "    .dataframe tbody tr th:only-of-type {\n",
       "        vertical-align: middle;\n",
       "    }\n",
       "\n",
       "    .dataframe tbody tr th {\n",
       "        vertical-align: top;\n",
       "    }\n",
       "\n",
       "    .dataframe thead th {\n",
       "        text-align: right;\n",
       "    }\n",
       "</style>\n",
       "<table border=\"1\" class=\"dataframe\">\n",
       "  <thead>\n",
       "    <tr style=\"text-align: right;\">\n",
       "      <th></th>\n",
       "      <th>signal</th>\n",
       "    </tr>\n",
       "  </thead>\n",
       "  <tbody>\n",
       "    <tr>\n",
       "      <th>0</th>\n",
       "      <td>[-0.0002746582, -0.00015258789, -0.00039672852...</td>\n",
       "    </tr>\n",
       "    <tr>\n",
       "      <th>1</th>\n",
       "      <td>[-0.02053833, -0.02911377, -0.026672363, -0.02...</td>\n",
       "    </tr>\n",
       "    <tr>\n",
       "      <th>2</th>\n",
       "      <td>[0.0007324219, 9.1552734e-05, -0.0018005371, -...</td>\n",
       "    </tr>\n",
       "    <tr>\n",
       "      <th>3</th>\n",
       "      <td>[-0.00030517578, -0.003326416, -0.0039978027, ...</td>\n",
       "    </tr>\n",
       "    <tr>\n",
       "      <th>4</th>\n",
       "      <td>[0.0031738281, -0.0015563965, -0.0012817383, 0...</td>\n",
       "    </tr>\n",
       "  </tbody>\n",
       "</table>\n",
       "</div>"
      ],
      "text/plain": [
       "                                              signal\n",
       "0  [-0.0002746582, -0.00015258789, -0.00039672852...\n",
       "1  [-0.02053833, -0.02911377, -0.026672363, -0.02...\n",
       "2  [0.0007324219, 9.1552734e-05, -0.0018005371, -...\n",
       "3  [-0.00030517578, -0.003326416, -0.0039978027, ...\n",
       "4  [0.0031738281, -0.0015563965, -0.0012817383, 0..."
      ]
     },
     "execution_count": 12,
     "metadata": {},
     "output_type": "execute_result"
    }
   ],
   "source": [
    "train.head()"
   ]
  },
  {
   "cell_type": "code",
   "execution_count": 13,
   "metadata": {},
   "outputs": [
    {
     "data": {
      "text/html": [
       "<div>\n",
       "<style scoped>\n",
       "    .dataframe tbody tr th:only-of-type {\n",
       "        vertical-align: middle;\n",
       "    }\n",
       "\n",
       "    .dataframe tbody tr th {\n",
       "        vertical-align: top;\n",
       "    }\n",
       "\n",
       "    .dataframe thead th {\n",
       "        text-align: right;\n",
       "    }\n",
       "</style>\n",
       "<table border=\"1\" class=\"dataframe\">\n",
       "  <thead>\n",
       "    <tr style=\"text-align: right;\">\n",
       "      <th></th>\n",
       "      <th>signal</th>\n",
       "    </tr>\n",
       "  </thead>\n",
       "  <tbody>\n",
       "    <tr>\n",
       "      <th>0</th>\n",
       "      <td>[-0.00061035156, -0.00091552734, -0.0009155273...</td>\n",
       "    </tr>\n",
       "    <tr>\n",
       "      <th>1</th>\n",
       "      <td>[0.006072998, 0.008880615, 0.008728027, 0.0092...</td>\n",
       "    </tr>\n",
       "    <tr>\n",
       "      <th>2</th>\n",
       "      <td>[-0.0010375977, 0.00012207031, -0.0007324219, ...</td>\n",
       "    </tr>\n",
       "    <tr>\n",
       "      <th>3</th>\n",
       "      <td>[0.00088500977, 0.0014953613, 0.0014038086, 0....</td>\n",
       "    </tr>\n",
       "    <tr>\n",
       "      <th>4</th>\n",
       "      <td>[-3.0517578e-05, -3.0517578e-05, -6.1035156e-0...</td>\n",
       "    </tr>\n",
       "  </tbody>\n",
       "</table>\n",
       "</div>"
      ],
      "text/plain": [
       "                                              signal\n",
       "0  [-0.00061035156, -0.00091552734, -0.0009155273...\n",
       "1  [0.006072998, 0.008880615, 0.008728027, 0.0092...\n",
       "2  [-0.0010375977, 0.00012207031, -0.0007324219, ...\n",
       "3  [0.00088500977, 0.0014953613, 0.0014038086, 0....\n",
       "4  [-3.0517578e-05, -3.0517578e-05, -6.1035156e-0..."
      ]
     },
     "execution_count": 13,
     "metadata": {},
     "output_type": "execute_result"
    }
   ],
   "source": [
    "test.head()"
   ]
  }
 ],
 "metadata": {
  "interpreter": {
   "hash": "f2cadc731ed68d24b3b9d7abfbbdc4ce8bbd0a9aaf74593675e8980077ed4b33"
  },
  "kernelspec": {
   "display_name": "Python 3.9.7 64-bit ('tf-convtasnet': conda)",
   "language": "python",
   "name": "python3"
  },
  "language_info": {
   "codemirror_mode": {
    "name": "ipython",
    "version": 3
   },
   "file_extension": ".py",
   "mimetype": "text/x-python",
   "name": "python",
   "nbconvert_exporter": "python",
   "pygments_lexer": "ipython3",
   "version": "3.9.7"
  },
  "orig_nbformat": 4
 },
 "nbformat": 4,
 "nbformat_minor": 2
}
